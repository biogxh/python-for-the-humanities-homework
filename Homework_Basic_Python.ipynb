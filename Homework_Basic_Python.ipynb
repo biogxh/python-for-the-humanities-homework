{
 "cells": [
  {
   "cell_type": "markdown",
   "metadata": {},
   "source": [
    "## Assignment 1\n",
    "\n",
    "Calculate the sum of all the squared numbers from 1 to 100. Keep in mind that the `range()` function excludes the given upper limit."
   ]
  },
  {
   "cell_type": "code",
   "execution_count": 1,
   "metadata": {},
   "outputs": [
    {
     "name": "stdout",
     "output_type": "stream",
     "text": [
      "338350.0\n"
     ]
    }
   ],
   "source": [
    "# your solution\n",
    "import math\n",
    "b = 0\n",
    "for i in range(1,101):\n",
    "    a = math.pow(i,2)\n",
    "    b = b + a\n",
    "print(b)"
   ]
  },
  {
   "cell_type": "markdown",
   "metadata": {},
   "source": [
    "## Assignment 2\n",
    "\n",
    "Calculate the sum of all the numbers in an array. There are multiple ways of doing this, choose any you like."
   ]
  },
  {
   "cell_type": "code",
   "execution_count": 2,
   "metadata": {},
   "outputs": [
    {
     "name": "stdout",
     "output_type": "stream",
     "text": [
      "21\n"
     ]
    }
   ],
   "source": [
    "# your solution\n",
    "b = 0\n",
    "a = [1,2,3,4,5,6]\n",
    "for i in a:\n",
    "    b = b + i\n",
    "print(b)"
   ]
  },
  {
   "cell_type": "markdown",
   "metadata": {},
   "source": [
    "## Assignment 3\n",
    "\n",
    "Adding to assignment 2, implement the same functionality but allow the array to be a mix of numbers and numbers represented as strings, e.g. [1, 5, '7', 5, '10']."
   ]
  },
  {
   "cell_type": "code",
   "execution_count": 3,
   "metadata": {},
   "outputs": [
    {
     "name": "stdout",
     "output_type": "stream",
     "text": [
      "28\n"
     ]
    }
   ],
   "source": [
    "# your solution\n",
    "b = 0\n",
    "a = [1, 5, '7', 5, '10']\n",
    "for i in a:\n",
    "    b = b + int(i)\n",
    "print(b)"
   ]
  },
  {
   "cell_type": "markdown",
   "metadata": {},
   "source": [
    "## Assignment 4\n",
    "\n",
    "Let's build a small database program. The goal is to let the user build a database of pets. The database is a dictionary, in which a pet's name acts as the key and the value holds the type of animal (e.g. 'kitty': 'cat'). We'll assume that no two animals have the same name. Use a `while` loop to allow a user to add entries by first asking for the name of the pet and then for its type. Then ask the user if they want to add another entry.\n",
    "    \n",
    "*Tip*: the while loop condition can be a statement such as variables equals or does not equal a value."
   ]
  },
  {
   "cell_type": "code",
   "execution_count": 3,
   "metadata": {},
   "outputs": [
    {
     "name": "stdout",
     "output_type": "stream",
     "text": [
      "dict_keys(['kitty', 'Poter', 'Moxy', 'Juicy'])\n",
      "Do you want to add another entry? 1 for yes and 2 for no1\n",
      "What is the name of your pet?NIUNIU\n",
      "What is the type of your pet?PARAKEE\n",
      "Do you want to add another entry? 1 for yes and 2 for no2\n",
      "{'kitty': 'cat', 'Poter': 'dog', 'Moxy': 'bird', 'Juicy': 'snake', 'NIUNIU': {'PARAKEE'}}\n"
     ]
    }
   ],
   "source": [
    "# your solution\n",
    "dic1 ={'kitty':'cat','Poter':'dog','Moxy':'bird','Juicy':'snake'}\n",
    "print(dic1.keys())\n",
    "a = 1\n",
    "while a != 2:\n",
    "    a = int(input('Do you want to add another entry? 1 for yes and 2 for no'))\n",
    "    if a != 2:\n",
    "        c = input('What is the name of your pet?')\n",
    "        d = input('What is the type of your pet?')\n",
    "        dic1[c]={d}\n",
    "        \n",
    "print(dic1)"
   ]
  },
  {
   "cell_type": "markdown",
   "metadata": {},
   "source": [
    "## Assignment 5\n",
    "\n",
    "Split a list of unknown length into 4 equal sized parts. You can make the assumption that the length of the list is a multiple of 4. Print the resulting lists.\n",
    "\n",
    "*Tip*: A list can contain multiple lists."
   ]
  },
  {
   "cell_type": "code",
   "execution_count": 38,
   "metadata": {},
   "outputs": [
    {
     "name": "stdout",
     "output_type": "stream",
     "text": [
      "[5, 1, 8, 5, 4, 7, 9, 7, 7, 2, 1, 1, 1, 6, 6, 8]\n",
      "4.0\n",
      "[5, 1, 8, 5]\n",
      "[4, 7, 9, 7]\n",
      "[7, 2, 1, 1]\n",
      "[1, 6, 6, 8]\n"
     ]
    }
   ],
   "source": [
    "#your solution\n",
    "import random\n",
    "list1=[random.randrange(1,10),random.randrange(1,10),random.randrange(1,10),random.randrange(1,10)]\n",
    "for i in range(1,random.randrange(1,5)):\n",
    "    list2=[random.randrange(1,10),random.randrange(1,10),random.randrange(1,10),random.randrange(1,10)]\n",
    "    list1=list1 + list2\n",
    "print(list1)\n",
    "a = len(list1)/4\n",
    "print(a)\n",
    "for j in range(int(a)):\n",
    "    list_j = list1[:4]\n",
    "    for x in range(4):\n",
    "        list1.remove(list1[0])\n",
    "    print(list_j)\n"
   ]
  }
 ],
 "metadata": {
  "kernelspec": {
   "display_name": "Python 3",
   "language": "python",
   "name": "python3"
  },
  "language_info": {
   "codemirror_mode": {
    "name": "ipython",
    "version": 3
   },
   "file_extension": ".py",
   "mimetype": "text/x-python",
   "name": "python",
   "nbconvert_exporter": "python",
   "pygments_lexer": "ipython3",
   "version": "3.7.4"
  }
 },
 "nbformat": 4,
 "nbformat_minor": 4
}
