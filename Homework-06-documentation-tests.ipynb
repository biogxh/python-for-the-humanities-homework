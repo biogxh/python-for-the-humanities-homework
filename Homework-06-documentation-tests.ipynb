{
 "cells": [
  {
   "cell_type": "markdown",
   "metadata": {},
   "source": [
    "# Assignment 1\n",
    "\n",
    "Create a doc folder in your homework repository on GitHub. Enable GitHub pages and set it to use the docs folder. Add an index.md file and a second file. Put some text in both files using Markdown. Include at least 2 types of headings, a list and a code snipped (e.g. from one of you homeworks). Add a link from the index.md file to your second file."
   ]
  },
  {
   "cell_type": "code",
   "execution_count": null,
   "metadata": {},
   "outputs": [],
   "source": [
    "# nothing to code here"
   ]
  },
  {
   "cell_type": "markdown",
   "metadata": {},
   "source": [
    "# Assignment 2\n",
    "\n",
    "Write a test case for the `count_words` method in the following class."
   ]
  },
  {
   "cell_type": "code",
   "execution_count": null,
   "metadata": {},
   "outputs": [],
   "source": [
    "class TextStats:\n",
    "    \n",
    "    def __init__(self, text):\n",
    "        self.text = text\n",
    "        \n",
    "    def count_words(self):\n",
    "        words = self.text.split(\" \")\n",
    "        counts = {}\n",
    "        for word in words:\n",
    "            if word.endswith(\".\") or word.endswith(\",\"):\n",
    "                word = word[:-1]\n",
    "            word = word.lower()\n",
    "            if word not in counts:\n",
    "                counts[word] = 1\n",
    "            else:\n",
    "                counts[word] += 1\n",
    "        return counts\n",
    "                \n",
    "text = \"Betty Botter bought some butter. But she said the butter’s bitter. If I put it in my batter, it will make my batter bitter. But a bit of better butter will make my batter better. So it was better Betty Botter bought a bit of better butter.\"\n",
    "\n",
    "stat = TextStats(text)\n",
    "print(stat.count_words())\n"
   ]
  },
  {
   "cell_type": "markdown",
   "metadata": {},
   "source": [
    "# Assignment 3\n",
    "\n",
    "Start working on your project. Create a GitHub repository for your code. Commit and push your work. You should have at least started on your code, so that we can see an overall plan for your project. Send Ken and Julia the link to your repository."
   ]
  },
  {
   "cell_type": "code",
   "execution_count": null,
   "metadata": {},
   "outputs": [],
   "source": [
    "# should be in separate repository."
   ]
  }
 ],
 "metadata": {
  "kernelspec": {
   "display_name": "Python 3",
   "language": "python",
   "name": "python3"
  },
  "language_info": {
   "codemirror_mode": {
    "name": "ipython",
    "version": 3
   },
   "file_extension": ".py",
   "mimetype": "text/x-python",
   "name": "python",
   "nbconvert_exporter": "python",
   "pygments_lexer": "ipython3",
   "version": "3.7.4"
  }
 },
 "nbformat": 4,
 "nbformat_minor": 2
}
