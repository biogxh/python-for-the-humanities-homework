{
 "cells": [
  {
   "cell_type": "markdown",
   "metadata": {},
   "source": [
    "# Assignment 1\n",
    "\n",
    "Create a dictionary of items a grocery store has. The keys of the dictionary should be the name of the item and the value should be the price (as numbers e.g. 2.5, 6, or 11.54). Write a loop that asks the user to enter an item. If that item exists in the dictionary add the item to a list called \"basket\". You can represent each item as a tuple (<item>, <price>). The user should be able to enter \"done\" to exit the loop. After the loop has finished, print the list of items bought, the price for each, and the total price for every thing in the basket."
   ]
  },
  {
   "cell_type": "code",
   "execution_count": 7,
   "metadata": {},
   "outputs": [
    {
     "name": "stdout",
     "output_type": "stream",
     "text": [
      "Please enter the name of item you would like to buyBanana\n",
      "Type 'done' to end shopping else type 'continue'continue\n",
      "Please enter the name of item you would like to buySprite\n",
      "Type 'done' to end shopping else type 'continue'continue\n",
      "Please enter the name of item you would like to buyCoffee\n",
      "Type 'done' to end shopping else type 'continue'done\n",
      "['Banana', 2, 'Sprite', 2, 'Coffee', 5] Total price:  9\n"
     ]
    }
   ],
   "source": [
    "# your code\n",
    "dict1={\"Coffee\":5,\"Sushi\":7.5,\"Sprite\":2,\"Banana\":2}\n",
    "basket=[]\n",
    "aa = 0\n",
    "x = \"continue\"\n",
    "while str(x) == 'continue':\n",
    "    a = input(\"Please enter the name of item you would like to buy\")\n",
    "    if str(a) in dict1:\n",
    "        basket.append(str(a))\n",
    "        basket.append(dict1[str(a)])\n",
    "        aa +=dict1[str(a)]\n",
    "        x = input(\"Type 'done' to end shopping else type 'continue'\")\n",
    "    else:\n",
    "        break\n",
    "    \n",
    "print(basket,\"Total price: \", aa)"
   ]
  },
  {
   "cell_type": "markdown",
   "metadata": {},
   "source": [
    "# Assignment 2\n",
    "\n",
    "Let's play some Black Jack. There are two players: the computer and the user. For each player create a list. Give each player a new card by generating a random number between 1 and 11 (I know this is simplified by works for this exercise) and print the number for the user. Then in a loop, ask the user \"Do you want another card?\". If the user says yes, generate another number for both players and print the number for the user. If the numbers for either player add up to 21 that player has won. Leave the loop and print who has won. If the numbers add up to more than 21, that player has lost. Leave the loop and print who has lost. Otherwise, continue with the next iteration. If the user says \"No\" to the question if they want another card, exit the loop. The player with the higher total wins. Print the winner."
   ]
  },
  {
   "cell_type": "code",
   "execution_count": 4,
   "metadata": {},
   "outputs": [
    {
     "name": "stdout",
     "output_type": "stream",
     "text": [
      "Your number is 4\n",
      "Do you want another card? Press 1 for yes else press 01\n",
      "Your number is 10\n",
      "Do you want another card? Press 1 for yes else press 01\n",
      "Your number is 2\n",
      "Do you want another card? Press 1 for yes else press 01\n",
      "Your number is 8\n",
      "Users' total number is 24 Computer's total number is 24\n",
      "user has lost.\n"
     ]
    }
   ],
   "source": [
    "# your code\n",
    "import random\n",
    "computer=[]\n",
    "user=[]\n",
    "\n",
    "a = random.randrange(1,12)\n",
    "\n",
    "computerB = 0\n",
    "userB=0\n",
    "x = 1\n",
    "while int(x) == 1:\n",
    "    print(\"Your number is\", a)\n",
    "    computer.append(a)\n",
    "    user.append(a)\n",
    "    computerB = sum(computer)\n",
    "    userB = sum(user)\n",
    "    #computerB +=a\n",
    "    #userB +=a\n",
    "    a = 0\n",
    "    if userB < 21:\n",
    "        a = random.randrange(1,12)    \n",
    "        x = input(\"Do you want another card? Press 1 for yes else press 0\")\n",
    "    else:\n",
    "        break\n",
    "computer.append(a)\n",
    "computerB = sum(computer)\n",
    "print(\"Users' total number is\",userB,\"Computer's total number is\",computerB )\n",
    "\n",
    "if userB > 21:\n",
    "    print(\"User has lost.\")\n",
    "elif computerB < 21 and computerB > userB:\n",
    "    print(\"Computer is the winner.\")\n",
    "else:\n",
    "    print(\"User is the winner\")\n",
    "\n"
   ]
  },
  {
   "cell_type": "markdown",
   "metadata": {},
   "source": [
    "# Assignment 3\n",
    "\n",
    "Redo assignment 2 but create a function that you call to deal a new card for a player (generate random numbers and add it to a players list). Then create a second function that evaluates who's the winner and prints the final counts."
   ]
  },
  {
   "cell_type": "code",
   "execution_count": 3,
   "metadata": {},
   "outputs": [
    {
     "name": "stdout",
     "output_type": "stream",
     "text": [
      "Do you want a new card? Press 1 for yes else press 01\n",
      "Your number is 10\n",
      "Do you want another card? Press 1 for yes else press 01\n",
      "Your number is 3\n",
      "Do you want another card? Press 1 for yes else press 01\n",
      "Your number is 9\n",
      "User has lost. User's final score is 22 Computer's final score is 31\n",
      "[10, 3, 9]\n",
      "[10, 3, 9, 9]\n"
     ]
    }
   ],
   "source": [
    "# your code\n",
    "import random\n",
    "a=[]\n",
    "b=[]\n",
    "x = input(\"Do you want a new card? Press 1 for yes else press 0\")\n",
    "def play(a,b,x): \n",
    "    while int(x) ==1:\n",
    "        c=random.randrange(1,12)\n",
    "        print(\"Your number is\", c)\n",
    "        a.append(int(c))\n",
    "        b.append(int(c))\n",
    "        #print(sum(a))\n",
    "        #print(sum(b))\n",
    "        if sum(user) < 21:\n",
    "            x = input(\"Do you want another card? Press 1 for yes else press 0\")\n",
    "        else:\n",
    "            break\n",
    "    b.append(int(c))\n",
    "        \n",
    "        \n",
    "def results(user,computer):\n",
    "    if user > 21:\n",
    "        print(\"User has lost.\", \"User's final score is\", user, \"Computer's final score is\", computer)\n",
    "    elif user == 21:\n",
    "        print(\"User is the winner.\", \"User's final score is\", user, \"Computer's final score is\", computer)\n",
    "    elif user > computer or computer > 21:\n",
    "        print(\"User is the winner.\", \"User's final score is\", user, \"Computer's final score is\", computer)\n",
    "    else:\n",
    "        print(\"Computer is the winner.\", \"User's final score is\", user, \"Computer's final score is\", computer)\n",
    "        \n",
    "import random\n",
    "computer=[]\n",
    "user=[]\n",
    "x = 1\n",
    "play(user,computer,x)\n",
    "userB=sum(user)\n",
    "computerB=sum(computer)\n",
    "results(userB,computerB)\n",
    "print(user)\n",
    "print(computer)\n",
    "        \n",
    "    "
   ]
  },
  {
   "cell_type": "markdown",
   "metadata": {},
   "source": [
    "# Assignment 4\n",
    "\n",
    "Similar to the in-class exercise, create a dictionary of books and their checkout status. Write a loop that let's a user borrow a book and return a message that informs them if the book is in the library, if it is already checked out or if it was successfully checked out. Also record who checked out a book (by asking the user for their name) and give the user the option to 1) see all the books that a particular user has checked out and 2) see the user who has checked out a book. Use functions to structure your code. You can use the response to the question of which book a user wants to checkout to exit the program or to show all the books a user has checked out."
   ]
  },
  {
   "cell_type": "code",
   "execution_count": 13,
   "metadata": {},
   "outputs": [
    {
     "name": "stdout",
     "output_type": "stream",
     "text": [
      "What is your book's title?Alice in wonderland\n",
      "This book is successfully checked out.\n",
      "What is your name?yyy\n",
      "{'Alice in wonderland': 'yyy', \"Hitchhiker's guide to the galaxy\": 'AA', 'Romeo and Juliet': False, 'WorldMap': 'CC'}\n"
     ]
    }
   ],
   "source": [
    "# your code\n",
    "dict1 = { \"Alice in wonderland\" : False, \"Hitchhiker's guide to the galaxy\": \"AA\", \"Romeo and Juliet\": False,\"WorldMap\":\"CC\"}\n",
    "a = input(\"What is your book's title?\")\n",
    "def borrow(dict1,a):\n",
    "\n",
    "    if a not in dict1:\n",
    "        print(\"This book is not in the library.\")\n",
    "    elif dict1[a] != False:\n",
    "        print(\"Sorry, this book has been checked out.\")\n",
    "        y = input(\"Press 1 to see all the books that a particular user has checked out; Press 2 to see the user who has checked out a book\")\n",
    "        if y == str(1):\n",
    "            print([k for k,v in dict1.items() if v != False])\n",
    "        if y == str(2):\n",
    "            print([v for k,v in dict1.items() if k == a])\n",
    "    else:\n",
    "        print(\"This book is successfully checked out.\")\n",
    "        x=input(\"What is your name?\")\n",
    "        dict1[str(a)]=str(x)\n",
    "        print(dict1)\n",
    "        \n",
    "borrow(dict1,a)"
   ]
  }
 ],
 "metadata": {
  "kernelspec": {
   "display_name": "Python 3",
   "language": "python",
   "name": "python3"
  },
  "language_info": {
   "codemirror_mode": {
    "name": "ipython",
    "version": 3
   },
   "file_extension": ".py",
   "mimetype": "text/x-python",
   "name": "python",
   "nbconvert_exporter": "python",
   "pygments_lexer": "ipython3",
   "version": "3.7.4"
  }
 },
 "nbformat": 4,
 "nbformat_minor": 2
}
