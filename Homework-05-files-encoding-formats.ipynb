{
 "cells": [
  {
   "cell_type": "markdown",
   "metadata": {},
   "source": [
    "# Assignment 1\n",
    "\n",
    "Finish assignment 2 from the last homework. Here is the assignment text again:\n",
    "\n",
    "Create a class that represents a project (e.g. called Project). The class should have the following properties:\n",
    "\n",
    "* It should be initialized with a path to a directory that holds several folders.\n",
    "* It should have a list of collections objects (see below).\n",
    "* There should be a method called load_collections that will for each folder in the directory passed to the constructor, create a collection and name it according to the folder name and set the path to the folder in the collection.\n",
    "\n",
    "Create a class that represents a collection of texts (e.g. called Collection). The class should have the following properties:\n",
    "\n",
    "* A path to a folder in the filesystem.\n",
    "* A name for the collection.\n",
    "* a list of Text objects.\n",
    "* A method called load_files that will create a Text object for each file in the folder specified for the collection.\n",
    "\n",
    "Create a folder that has several subfolders. Each subfolder should have a year as name (e.g. 1991, 1992, 1993, ...). Put a couple of plain text files into each folder. Now create a Project object and initialize it with the path to the folder (that has the year subfolders). Now call load_collections on the project and load_files on each collection."
   ]
  },
  {
   "cell_type": "code",
   "execution_count": null,
   "metadata": {},
   "outputs": [],
   "source": [
    "# your code"
   ]
  },
  {
   "cell_type": "markdown",
   "metadata": {},
   "source": [
    "# Assignment 2\n",
    "\n",
    "Write a function that reads and parses the JSON file in this directory called \"HW-05-data.json\". The file contains a list of references. For each entry in the list print the title, the authors, and the item type.\n",
    "\n",
    "Then let the user enter new entries (consisting of at least a title, an author, and an item type). Let the user enter as many entries as they like. Write the new entries as JSON into a new file.\n"
   ]
  },
  {
   "cell_type": "code",
   "execution_count": null,
   "metadata": {},
   "outputs": [],
   "source": [
    "# your code"
   ]
  },
  {
   "cell_type": "markdown",
   "metadata": {},
   "source": [
    "# Assignment 3\n",
    "\n",
    "Create a file called README.md in your homework GitHub repository. Use Markdown to format the text on that page. You can put whatever text you like into the file, but it should contain at least:\n",
    "\n",
    "- multiple paragraphs of text\n",
    "- one heading\n",
    "- one subheading\n",
    "- one bullet point list\n",
    "- one numbered list\n",
    "- one link to another webpage\n",
    "- an italic and a bold word"
   ]
  },
  {
   "cell_type": "code",
   "execution_count": null,
   "metadata": {},
   "outputs": [],
   "source": [
    "# no code here; add a new file to your GitHub repo instead"
   ]
  },
  {
   "cell_type": "markdown",
   "metadata": {},
   "source": [
    "# Assignment 4\n",
    "\n",
    "Start working on your project and be ready to give a brief progress report in class next week."
   ]
  },
  {
   "cell_type": "code",
   "execution_count": null,
   "metadata": {},
   "outputs": [],
   "source": []
  }
 ],
 "metadata": {
  "kernelspec": {
   "display_name": "Python 3",
   "language": "python",
   "name": "python3"
  },
  "language_info": {
   "codemirror_mode": {
    "name": "ipython",
    "version": 3
   },
   "file_extension": ".py",
   "mimetype": "text/x-python",
   "name": "python",
   "nbconvert_exporter": "python",
   "pygments_lexer": "ipython3",
   "version": "3.7.4"
  }
 },
 "nbformat": 4,
 "nbformat_minor": 2
}
