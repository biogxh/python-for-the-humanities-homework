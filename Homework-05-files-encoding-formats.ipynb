{
 "cells": [
  {
   "cell_type": "markdown",
   "metadata": {},
   "source": [
    "# Assignment 1\n",
    "\n",
    "Finish assignment 2 from the last homework. Here is the assignment text again:\n",
    "\n",
    "Create a class that represents a project (e.g. called Project). The class should have the following properties:\n",
    "\n",
    "* It should be initialized with a path to a directory that holds several folders.\n",
    "* It should have a list of collections objects (see below).\n",
    "* There should be a method called load_collections that will for each folder in the directory passed to the constructor, create a collection and name it according to the folder name and set the path to the folder in the collection.\n",
    "\n",
    "Create a class that represents a collection of texts (e.g. called Collection). The class should have the following properties:\n",
    "\n",
    "* A path to a folder in the filesystem.\n",
    "* A name for the collection.\n",
    "* a list of Text objects.\n",
    "* A method called load_files that will create a Text object for each file in the folder specified for the collection.\n",
    "\n",
    "Create a folder that has several subfolders. Each subfolder should have a year as name (e.g. 1991, 1992, 1993, ...). Put a couple of plain text files into each folder. Now create a Project object and initialize it with the path to the folder (that has the year subfolders). Now call load_collections on the project and load_files on each collection."
   ]
  },
  {
   "cell_type": "code",
   "execution_count": 79,
   "metadata": {},
   "outputs": [
    {
     "ename": "TypeError",
     "evalue": "expected str, bytes or os.PathLike object, not list",
     "output_type": "error",
     "traceback": [
      "\u001b[1;31m---------------------------------------------------------------------------\u001b[0m",
      "\u001b[1;31mTypeError\u001b[0m                                 Traceback (most recent call last)",
      "\u001b[1;32m<ipython-input-79-ba85d08e031a>\u001b[0m in \u001b[0;36m<module>\u001b[1;34m\u001b[0m\n\u001b[0;32m     31\u001b[0m \u001b[0mp1\u001b[0m \u001b[1;33m=\u001b[0m \u001b[0mProject\u001b[0m\u001b[1;33m(\u001b[0m\u001b[1;34m\"C:\\\\Users\\\\biogx\\\\GXH\\\\HW5\"\u001b[0m\u001b[1;33m)\u001b[0m\u001b[1;33m\u001b[0m\u001b[1;33m\u001b[0m\u001b[0m\n\u001b[0;32m     32\u001b[0m \u001b[1;33m\u001b[0m\u001b[0m\n\u001b[1;32m---> 33\u001b[1;33m \u001b[0mp1\u001b[0m\u001b[1;33m.\u001b[0m\u001b[0mload_collections\u001b[0m\u001b[1;33m(\u001b[0m\u001b[1;33m)\u001b[0m\u001b[1;33m\u001b[0m\u001b[1;33m\u001b[0m\u001b[0m\n\u001b[0m\u001b[0;32m     34\u001b[0m \u001b[0mprint\u001b[0m\u001b[1;33m(\u001b[0m\u001b[0mp1\u001b[0m\u001b[1;33m.\u001b[0m\u001b[0mcollectionlist\u001b[0m\u001b[1;33m)\u001b[0m\u001b[1;33m\u001b[0m\u001b[1;33m\u001b[0m\u001b[0m\n\u001b[0;32m     35\u001b[0m \u001b[0mprint\u001b[0m\u001b[1;33m(\u001b[0m\u001b[0mp1\u001b[0m\u001b[1;33m.\u001b[0m\u001b[0mpathlist\u001b[0m\u001b[1;33m)\u001b[0m\u001b[1;33m\u001b[0m\u001b[1;33m\u001b[0m\u001b[0m\n",
      "\u001b[1;32m<ipython-input-79-ba85d08e031a>\u001b[0m in \u001b[0;36mload_collections\u001b[1;34m(self)\u001b[0m\n\u001b[0;32m     10\u001b[0m         \u001b[1;32mfor\u001b[0m \u001b[0mpath\u001b[0m\u001b[1;33m,\u001b[0m \u001b[0mdirs\u001b[0m\u001b[1;33m,\u001b[0m \u001b[0mfiles\u001b[0m \u001b[1;32min\u001b[0m \u001b[0mos\u001b[0m\u001b[1;33m.\u001b[0m\u001b[0mwalk\u001b[0m\u001b[1;33m(\u001b[0m\u001b[0mself\u001b[0m\u001b[1;33m.\u001b[0m\u001b[0mpath\u001b[0m\u001b[1;33m)\u001b[0m\u001b[1;33m:\u001b[0m\u001b[1;33m\u001b[0m\u001b[1;33m\u001b[0m\u001b[0m\n\u001b[0;32m     11\u001b[0m             \u001b[1;32mif\u001b[0m \u001b[0mi\u001b[0m \u001b[1;33m>\u001b[0m \u001b[1;36m0\u001b[0m\u001b[1;33m:\u001b[0m\u001b[1;33m\u001b[0m\u001b[1;33m\u001b[0m\u001b[0m\n\u001b[1;32m---> 12\u001b[1;33m                 \u001b[0mname\u001b[0m \u001b[1;33m=\u001b[0m \u001b[0mos\u001b[0m\u001b[1;33m.\u001b[0m\u001b[0mpath\u001b[0m\u001b[1;33m.\u001b[0m\u001b[0mbasename\u001b[0m\u001b[1;33m(\u001b[0m\u001b[0mdirs\u001b[0m\u001b[1;33m)\u001b[0m\u001b[1;33m\u001b[0m\u001b[1;33m\u001b[0m\u001b[0m\n\u001b[0m\u001b[0;32m     13\u001b[0m                 \u001b[0mself\u001b[0m\u001b[1;33m.\u001b[0m\u001b[0mcollectionlist\u001b[0m\u001b[1;33m.\u001b[0m\u001b[0mappend\u001b[0m\u001b[1;33m(\u001b[0m\u001b[0mname\u001b[0m\u001b[1;33m)\u001b[0m\u001b[1;33m\u001b[0m\u001b[1;33m\u001b[0m\u001b[0m\n\u001b[0;32m     14\u001b[0m                 \u001b[0mself\u001b[0m\u001b[1;33m.\u001b[0m\u001b[0mpathlist\u001b[0m\u001b[1;33m.\u001b[0m\u001b[0mappend\u001b[0m\u001b[1;33m(\u001b[0m\u001b[0mdirs\u001b[0m\u001b[1;33m)\u001b[0m\u001b[1;33m\u001b[0m\u001b[1;33m\u001b[0m\u001b[0m\n",
      "\u001b[1;32m~\\Anaconda3\\lib\\ntpath.py\u001b[0m in \u001b[0;36mbasename\u001b[1;34m(p)\u001b[0m\n\u001b[0;32m    212\u001b[0m \u001b[1;32mdef\u001b[0m \u001b[0mbasename\u001b[0m\u001b[1;33m(\u001b[0m\u001b[0mp\u001b[0m\u001b[1;33m)\u001b[0m\u001b[1;33m:\u001b[0m\u001b[1;33m\u001b[0m\u001b[1;33m\u001b[0m\u001b[0m\n\u001b[0;32m    213\u001b[0m     \u001b[1;34m\"\"\"Returns the final component of a pathname\"\"\"\u001b[0m\u001b[1;33m\u001b[0m\u001b[1;33m\u001b[0m\u001b[0m\n\u001b[1;32m--> 214\u001b[1;33m     \u001b[1;32mreturn\u001b[0m \u001b[0msplit\u001b[0m\u001b[1;33m(\u001b[0m\u001b[0mp\u001b[0m\u001b[1;33m)\u001b[0m\u001b[1;33m[\u001b[0m\u001b[1;36m1\u001b[0m\u001b[1;33m]\u001b[0m\u001b[1;33m\u001b[0m\u001b[1;33m\u001b[0m\u001b[0m\n\u001b[0m\u001b[0;32m    215\u001b[0m \u001b[1;33m\u001b[0m\u001b[0m\n\u001b[0;32m    216\u001b[0m \u001b[1;33m\u001b[0m\u001b[0m\n",
      "\u001b[1;32m~\\Anaconda3\\lib\\ntpath.py\u001b[0m in \u001b[0;36msplit\u001b[1;34m(p)\u001b[0m\n\u001b[0;32m    181\u001b[0m     \u001b[0mReturn\u001b[0m \u001b[0mtuple\u001b[0m \u001b[1;33m(\u001b[0m\u001b[0mhead\u001b[0m\u001b[1;33m,\u001b[0m \u001b[0mtail\u001b[0m\u001b[1;33m)\u001b[0m \u001b[0mwhere\u001b[0m \u001b[0mtail\u001b[0m \u001b[1;32mis\u001b[0m \u001b[0meverything\u001b[0m \u001b[0mafter\u001b[0m \u001b[0mthe\u001b[0m \u001b[0mfinal\u001b[0m \u001b[0mslash\u001b[0m\u001b[1;33m.\u001b[0m\u001b[1;33m\u001b[0m\u001b[1;33m\u001b[0m\u001b[0m\n\u001b[0;32m    182\u001b[0m     Either part may be empty.\"\"\"\n\u001b[1;32m--> 183\u001b[1;33m     \u001b[0mp\u001b[0m \u001b[1;33m=\u001b[0m \u001b[0mos\u001b[0m\u001b[1;33m.\u001b[0m\u001b[0mfspath\u001b[0m\u001b[1;33m(\u001b[0m\u001b[0mp\u001b[0m\u001b[1;33m)\u001b[0m\u001b[1;33m\u001b[0m\u001b[1;33m\u001b[0m\u001b[0m\n\u001b[0m\u001b[0;32m    184\u001b[0m     \u001b[0mseps\u001b[0m \u001b[1;33m=\u001b[0m \u001b[0m_get_bothseps\u001b[0m\u001b[1;33m(\u001b[0m\u001b[0mp\u001b[0m\u001b[1;33m)\u001b[0m\u001b[1;33m\u001b[0m\u001b[1;33m\u001b[0m\u001b[0m\n\u001b[0;32m    185\u001b[0m     \u001b[0md\u001b[0m\u001b[1;33m,\u001b[0m \u001b[0mp\u001b[0m \u001b[1;33m=\u001b[0m \u001b[0msplitdrive\u001b[0m\u001b[1;33m(\u001b[0m\u001b[0mp\u001b[0m\u001b[1;33m)\u001b[0m\u001b[1;33m\u001b[0m\u001b[1;33m\u001b[0m\u001b[0m\n",
      "\u001b[1;31mTypeError\u001b[0m: expected str, bytes or os.PathLike object, not list"
     ]
    }
   ],
   "source": [
    "# your code\n",
    "import os\n",
    "class Project:\n",
    "    def __init__(self,path):\n",
    "        self.path = path\n",
    "        self.collectionlist = []\n",
    "        self.pathlist = []        \n",
    "    def load_collections(self):\n",
    "        i = 0\n",
    "        for path, dirs, files in os.walk(self.path):\n",
    "            if i > 0:\n",
    "                name = os.path.basename(dirs)\n",
    "                self.collectionlist.append(name)\n",
    "                self.pathlist.append(dirs)\n",
    "            i += 1\n",
    "       \n",
    "    \n",
    "class Collection:\n",
    "    def __init__(self, path):\n",
    "        self.path = path;\n",
    "        self.name = os.path.basename(self.path)\n",
    "        self.textlist = []\n",
    "    def load_files(self):   \n",
    "        i = 0\n",
    "        for path, dirs, files in os.walk(self.path):\n",
    "            if i > 0:\n",
    "                self.textlist.append(files)\n",
    "                print(files)\n",
    "            i += 1\n",
    "    \n",
    "p1 = Project(\"C:\\\\Users\\\\biogx\\\\GXH\\\\HW5\")\n",
    "\n",
    "p1.load_collections()\n",
    "print(p1.collectionlist)\n",
    "print(p1.pathlist)\n",
    "print(p1.path)\n",
    "c1 = Collection(p1.pathlist[0])\n",
    "print(c1.path)\n",
    "print(c1.name)\n",
    "c1.load_files()\n",
    "print(c1.textlist)"
   ]
  },
  {
   "cell_type": "markdown",
   "metadata": {},
   "source": [
    "# Assignment 2\n",
    "\n",
    "Write a function that reads and parses the JSON file in this directory called \"HW-05-data.json\". The file contains a list of references. For each entry in the list print the title, the authors, and the item type.\n",
    "\n",
    "Then let the user enter new entries (consisting of at least a title, an author, and an item type). Let the user enter as many entries as they like. Write the new entries as JSON into a new file.\n"
   ]
  },
  {
   "cell_type": "code",
   "execution_count": 5,
   "metadata": {},
   "outputs": [
    {
     "name": "stdout",
     "output_type": "stream",
     "text": [
      "What is the path of json file?C:\\\\Users\\\\biogx\\\\GXH\\\\HW-05-data.json\n",
      "Title:___ 3 Elements Available in All TEI Documents - The TEI Guidelines\n",
      "Authors:___ [{'name': ' TEI Consortium', 'uri': None, 'localAuthorityId': None, 'firstName': '', 'lastName': 'TEI Consortium', 'positionInList': 0, 'affiliations': None}]\n",
      "itemType:___ WEBPAGE\n",
      "Title:___ Content Negotiation: why it is useful, and how to make it work\n",
      "Authors:___ []\n",
      "itemType:___ BLOG_POST\n",
      "Title:___ Linked Data - Design Issues\n",
      "Authors:___ [{'name': 'Tim Berners-Lee', 'uri': None, 'localAuthorityId': None, 'firstName': 'Tim', 'lastName': 'Berners-Lee', 'positionInList': 0, 'affiliations': None}]\n",
      "itemType:___ WEBPAGE\n",
      "Title:___ Markup systems and the future of scholarly text processing\n",
      "Authors:___ [{'name': 'James H. Coombs', 'uri': None, 'localAuthorityId': None, 'firstName': 'James H.', 'lastName': 'Coombs', 'positionInList': 0, 'affiliations': None}, {'name': 'Allen H. Renear', 'uri': None, 'localAuthorityId': None, 'firstName': 'Allen H.', 'lastName': 'Renear', 'positionInList': 1, 'affiliations': None}, {'name': 'Steven J. DeRose', 'uri': None, 'localAuthorityId': None, 'firstName': 'Steven J.', 'lastName': 'DeRose', 'positionInList': 2, 'affiliations': None}]\n",
      "itemType:___ JOURNAL_ARTICLE\n",
      "Title:___ Provenance and Annotation of Data and Processes - Springer\n",
      "Authors:___ []\n",
      "itemType:___ WEBPAGE\n",
      "Title:___ Provenance and Annotations for Linked Data\n",
      "Authors:___ [{'name': 'Kai Eckert', 'uri': None, 'localAuthorityId': None, 'firstName': 'Kai', 'lastName': 'Eckert', 'positionInList': 0, 'affiliations': None}]\n",
      "itemType:___ CONFERENCE_PAPER\n",
      "Title:___ RDF 1.1 Concepts and Abstract Syntax\n",
      "Authors:___ [{'name': ' W3C', 'uri': None, 'localAuthorityId': None, 'firstName': '', 'lastName': 'W3C', 'positionInList': 0, 'affiliations': None}]\n",
      "itemType:___ WEBPAGE\n",
      "Title:___ Representing Contextualized Data using Semantic Web Tools\n",
      "Authors:___ [{'name': 'Robert Macgregor', 'uri': None, 'localAuthorityId': None, 'firstName': 'Robert', 'lastName': 'Macgregor', 'positionInList': 0, 'affiliations': None}, {'name': 'In-Young Ko', 'uri': None, 'localAuthorityId': None, 'firstName': 'In-Young', 'lastName': 'Ko', 'positionInList': 1, 'affiliations': None}]\n",
      "itemType:___ CONFERENCE_PAPER\n",
      "Title:___ Term Extraction and Automatic Indexing\n",
      "Authors:___ [{'name': 'Christian Jacquemin', 'uri': None, 'localAuthorityId': None, 'firstName': 'Christian', 'lastName': 'Jacquemin', 'positionInList': 0, 'affiliations': None}, {'name': 'Didier Bourigault', 'uri': None, 'localAuthorityId': None, 'firstName': 'Didier', 'lastName': 'Bourigault', 'positionInList': 1, 'affiliations': None}, {'name': 'Ruslan Mitkov', 'uri': None, 'localAuthorityId': None, 'firstName': 'Ruslan', 'lastName': 'Mitkov', 'positionInList': 2, 'affiliations': None}]\n",
      "itemType:___ BOOK_SECTION\n",
      "Title:___ The Anatomy of a Nanopublication\n",
      "Authors:___ [{'name': 'Paul Groth', 'uri': None, 'localAuthorityId': None, 'firstName': 'Paul', 'lastName': 'Groth', 'positionInList': 0, 'affiliations': None}, {'name': 'Andrew Gibson', 'uri': None, 'localAuthorityId': None, 'firstName': 'Andrew', 'lastName': 'Gibson', 'positionInList': 1, 'affiliations': None}, {'name': 'Jan Velterop', 'uri': None, 'localAuthorityId': None, 'firstName': 'Jan', 'lastName': 'Velterop', 'positionInList': 2, 'affiliations': None}]\n",
      "itemType:___ JOURNAL_ARTICLE\n",
      "Title:___ rrrr\n",
      "Authors:___ ffff\n",
      "itemType:___ asdawe\n",
      "Title:___ aaa\n",
      "Authors:___ ddd\n",
      "itemType:___ ccc\n",
      "Title:___ fff\n",
      "Authors:___ iii\n",
      "itemType:___ yyy\n",
      "Title:___ ttttt\n",
      "Authors:___ 777777777yyyyyyyy\n",
      "itemType:___ fffffff\n",
      "Title:___ xxxxx\n",
      "Authors:___ sssssss\n",
      "itemType:___ ddddddddd\n",
      "Title:___ eeeeee\n",
      "Authors:___ rrrrr\n",
      "itemType:___ ttttt\n",
      "Press 0 to add a new entry Press 1 to exit0\n",
      "What is the title you want to type in for your entry?ffffffffffddddddddddd\n",
      "What is the author you want to type in for your entry?ssssssssss\n",
      "What is the item type you want to type in for your entry?dddddddddddddd\n",
      "Press 0 to add a new entry Press 1 to exit1\n"
     ]
    }
   ],
   "source": [
    "import json\n",
    "\n",
    "#C:\\\\Users\\\\biogx\\\\GXH\\\\HW-05-data.json\n",
    "\n",
    "def ReadJson(path):\n",
    "    \n",
    "    with open(path, 'r') as f:\n",
    "        data = json.load(f)\n",
    "\n",
    "    for element in data[\"items\"]: # data is a list\n",
    "        print(\"Title:___\", element['title'])\n",
    "        print(\"Authors:___\", element['authors'])\n",
    "        print(\"itemType:___\",element['itemType'])\n",
    "path = str(input('What is the path of json file?'))\n",
    "ReadJson(path)\n",
    "with open(path, 'r') as f:\n",
    "        datadt = json.load(f)\n",
    "i = int(input('Press 0 to add a new entry Press 1 to exit'))\n",
    "while i != 1:    \n",
    "    Titleinput = input(\"What is the title you want to type in for your entry?\")\n",
    "    Authorinput = input(\"What is the author you want to type in for your entry?\")\n",
    "    Typeinput = input(\"What is the item type you want to type in for your entry?\")\n",
    "    User_entry = {\"title\": Titleinput,\n",
    "    \"authors\": Authorinput,\n",
    "    \"itemType\": Typeinput,\n",
    "    }\n",
    "    temp = datadt['items'] \n",
    "    with open('C:\\\\Users\\\\biogx\\\\GXH\\\\HW-05-data.json', 'w') as json_file:\n",
    "        temp.append(User_entry)\n",
    "        datadt['items'] = temp\n",
    "        json.dump(datadt, json_file)\n",
    "    if i == 0:\n",
    "        i = int(input('Press 0 to add a new entry Press 1 to exit'))\n"
   ]
  },
  {
   "cell_type": "markdown",
   "metadata": {},
   "source": [
    "# Assignment 3\n",
    "\n",
    "Create a file called README.md in your homework GitHub repository. Use Markdown to format the text on that page. You can put whatever text you like into the file, but it should contain at least:\n",
    "\n",
    "- multiple paragraphs of text\n",
    "- one heading\n",
    "- one subheading\n",
    "- one bullet point list\n",
    "- one numbered list\n",
    "- one link to another webpage\n",
    "- an italic and a bold word"
   ]
  },
  {
   "cell_type": "code",
   "execution_count": null,
   "metadata": {},
   "outputs": [],
   "source": [
    "# no code here; add a new file to your GitHub repo instead"
   ]
  },
  {
   "cell_type": "markdown",
   "metadata": {},
   "source": [
    "# Assignment 4\n",
    "\n",
    "Start working on your project and be ready to give a brief progress report in class next week."
   ]
  },
  {
   "cell_type": "code",
   "execution_count": null,
   "metadata": {},
   "outputs": [],
   "source": []
  }
 ],
 "metadata": {
  "kernelspec": {
   "display_name": "Python 3",
   "language": "python",
   "name": "python3"
  },
  "language_info": {
   "codemirror_mode": {
    "name": "ipython",
    "version": 3
   },
   "file_extension": ".py",
   "mimetype": "text/x-python",
   "name": "python",
   "nbconvert_exporter": "python",
   "pygments_lexer": "ipython3",
   "version": "3.7.4"
  }
 },
 "nbformat": 4,
 "nbformat_minor": 2
}
